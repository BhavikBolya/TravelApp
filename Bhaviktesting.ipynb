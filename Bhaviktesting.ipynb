{
 "cells": [
  {
   "cell_type": "code",
   "execution_count": 2,
   "metadata": {},
   "outputs": [],
   "source": [
    "from selenium import webdriver\n",
    "from bs4 import BeautifulSoup\n",
    "import time\n",
    "import requests\n",
    "import re\n"
   ]
  },
  {
   "cell_type": "code",
   "execution_count": null,
   "metadata": {},
   "outputs": [],
   "source": [
    "driver = webdriver.Chrome()\n",
    "driver.get(\"https://www.expedia.com/Hotel-Search?adults=2&d1=2022-01-10&d2=2022-01-11&destination=Mumbai%20%28and%20vicinity%29%2C%20Maharashtra%2C%20India&endDate=2022-01-11&latLong=19.107168%2C72.891596&regionId=6050062&rooms=1&semdtl=&sort=RECOMMENDED&startDate=2022-01-10&theme=&useRewards=false&userIntent=\")\n",
    "for i in range(1):\n",
    "    time.sleep(5)\n",
    "    driver.execute_script(\"window.scrollTo(0,document.body.scrollHeight)\")   \n",
    "    button = driver.find_element_by_xpath('//*[@class=\"uitk-button uitk-button-medium uitk-button-secondary\"]')\n",
    "    button.click() \n",
    "soup = str(BeautifulSoup(driver.page_source, 'html.parser'))\n",
    "soup = BeautifulSoup(soup, 'lxml')\n",
    "\n",
    "ol = soup.find('ol' , class_  = 'results-list no-bullet')\n",
    "li = ol.find_all('a', class_='listing__link uitk-card-link')\n",
    "link_list = []\n",
    "li.pop(0)\n",
    "for x,i in enumerate(li):\n",
    "    link_list.append(i.attrs['href'])\n",
    "    print(x)\n",
    "# Save downloaded page as a text file\n",
    "print(link_list)"
   ]
  },
  {
   "cell_type": "code",
   "execution_count": null,
   "metadata": {},
   "outputs": [],
   "source": [
    "import requests\n",
    "import pandas as pd\n",
    "from bs4 import BeautifulSoup\n",
    "\n",
    "url = \"https://www.expedia.com/Hotel-Search?adults=2&d1=2022-01-10&d2=2022-01-11&destination=Mumbai%20%28and%20vicinity%29%2C%20Maharashtra%2C%20India&endDate=2022-01-11&latLong=19.107168%2C72.891596&regionId=6050062&rooms=1&semdtl=&sort=RECOMMENDED&startDate=2022-01-10&theme=&useRewards=false&userIntent=\"\n",
    "soup = BeautifulSoup(requests.get(url).content, \"html.parser\")\n",
    "\n",
    "script = soup.select_one('[type=\"text/show-more\"]')\n",
    "script.replace_with(BeautifulSoup(script.contents[0], \"html.parser\"))\n",
    "\n",
    "all_data = []\n",
    "for item in soup.select(\".fixresitem\"):\n",
    "    all_data.append(item.get_text(strip=True, separator=\"|\").split(\"|\")[:5])\n",
    "    all_data[-1].append(\n",
    "        item.findprevious(class=\"fixresheader2\").get_text(strip=True)\n",
    "    )\n",
    "\n",
    "df = pd.DataFrame(\n",
    "    all_data, columns=[\"Team 1\", \"Score 1\", \"Score 2\", \"Time\", \"Team 2\", \"Date\"]\n",
    ")\n",
    "print(df)\n",
    "df.to_csv(\"data.csv\", index=False)"
   ]
  }
 ],
 "metadata": {
  "interpreter": {
   "hash": "0ac516125b3ee16d4eaa41f008fade7bad50b808bd1b6d74d2e8ae0015ba9066"
  },
  "kernelspec": {
   "display_name": "Python 3.9.6 64-bit",
   "name": "python3"
  },
  "language_info": {
   "codemirror_mode": {
    "name": "ipython",
    "version": 3
   },
   "file_extension": ".py",
   "mimetype": "text/x-python",
   "name": "python",
   "nbconvert_exporter": "python",
   "pygments_lexer": "ipython3",
   "version": "3.9.6"
  },
  "orig_nbformat": 4
 },
 "nbformat": 4,
 "nbformat_minor": 2
}
