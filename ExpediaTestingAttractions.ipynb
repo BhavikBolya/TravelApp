{
 "cells": [
  {
   "cell_type": "code",
   "execution_count": 3,
   "metadata": {},
   "outputs": [],
   "source": [
    "from bs4 import BeautifulSoup\n",
    "import requests\n",
    "import re\n",
    "\n",
    "link = \"https://www.expedia.com/things-to-do/highlights-of-mumbai-private-sightseeing-tour-of-mumbai.a1250545.activity-details?rid=6050062&location=Mumbai%20(and%20vicinity)%2C%20Maharashtra%2C%20India&startDate=2022-01-06&endDate=2022-01-13&sort=RECOMMENDED&swp=on\"\n",
    "html_text = requests.get(link).text"
   ]
  },
  {
   "cell_type": "code",
   "execution_count": 10,
   "metadata": {},
   "outputs": [
    {
     "name": "stdout",
     "output_type": "stream",
     "text": [
      "Highlights of Mumbai: Private Sightseeing Tour of Mumbai\n",
      "4.8/5\n",
      "$80\n",
      "['Free cancellation available', '6h', 'Mobile voucher', 'Instant confirmation', 'Selective hotel pickup']\n"
     ]
    }
   ],
   "source": [
    "# Creating instance of BeautifulSoup\n",
    "soup = BeautifulSoup(html_text, 'lxml')\n",
    "\n",
    "# BASIC INFORMATION\n",
    "div1 = soup.find('div', class_ = 'uitk-flex uitk-flex-column uitk-layout-grid-item uitk-layout-grid-item-columnspan-small-12 uitk-layout-grid-item-columnspan-large-4 uitk-card all-r-padding-six')\n",
    "\n",
    "tour_name = div1.find('h1').text\n",
    "tour_rating = div1.find('div', class_ = 'uitk-text uitk-type-500 uitk-type-bold uitk-flex-align-self-center uitk-flex-item uitk-text-default-theme').text\n",
    "tour_price = div1.find('span', class_ = 'uitk-lockup-price').text\n",
    "\n",
    "print(tour_name)\n",
    "print(tour_rating)\n",
    "print(tour_price)\n",
    "\n",
    "# FEATURES\n",
    "features_div = soup.find('div', class_ = 'uitk-layout-grid uitk-layout-grid-gap-one uitk-layout-grid-columns-12')\n",
    "features_div = features_div.find_all('div', class_ = 'uitk-text uitk-type-300 uitk-spacing uitk-spacing-margin-inlinestart-one uitk-text-default-theme')\n",
    "\n",
    "features = []\n",
    "\n",
    "for feature in features_div:\n",
    "    features.append(feature.text)\n",
    "\n",
    "print(features)"
   ]
  },
  {
   "cell_type": "code",
   "execution_count": 11,
   "metadata": {},
   "outputs": [
    {
     "name": "stdout",
     "output_type": "stream",
     "text": [
      "latitude = 19.075973197345576, longitude = 72.87764539734557\n"
     ]
    }
   ],
   "source": [
    "# LOCATION\n",
    "location = soup.find('img', class_ = \"uitk-image-media uitk-card-roundcorner-all padding-bottom-zero\")\n",
    "\n",
    "location_link = location.attrs['src']\n",
    "coords = re.findall('%7C[0-9]+.[0-9]+,[0-9]+.[0-9]+', location_link).pop(1)\n",
    "coords = coords[3:]\n",
    "latitude, longitude = coords.split(\",\")\n",
    "\n",
    "print(f'latitude = {latitude}, longitude = {longitude}')"
   ]
  }
 ],
 "metadata": {
  "interpreter": {
   "hash": "eaa29a38bd2b6d3dd4d71a3f1d87df91209d6946247085b4849f410a246e8dc0"
  },
  "kernelspec": {
   "display_name": "Python 3.9.7 64-bit",
   "language": "python",
   "name": "python3"
  },
  "language_info": {
   "codemirror_mode": {
    "name": "ipython",
    "version": 3
   },
   "file_extension": ".py",
   "mimetype": "text/x-python",
   "name": "python",
   "nbconvert_exporter": "python",
   "pygments_lexer": "ipython3",
   "version": "3.9.7"
  },
  "orig_nbformat": 4
 },
 "nbformat": 4,
 "nbformat_minor": 2
}
