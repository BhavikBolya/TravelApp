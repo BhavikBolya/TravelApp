{
 "cells": [
  {
   "cell_type": "code",
   "execution_count": 2,
   "metadata": {},
   "outputs": [
    {
     "name": "stdout",
     "output_type": "stream",
     "text": [
      "All required libraries have been successfully imported.\n"
     ]
    }
   ],
   "source": [
    "from bs4 import BeautifulSoup\n",
    "import requests\n",
    "import re\n",
    "import pandas as pd\n",
    "import numpy as np\n",
    "import csv\n",
    "import json\n",
    "print('All required libraries have been successfully imported.')\n"
   ]
  },
  {
   "cell_type": "code",
   "execution_count": 3,
   "metadata": {},
   "outputs": [
    {
     "name": "stdout",
     "output_type": "stream",
     "text": [
      "Attraction urls file read successfully..\n",
      "Number of Attractions: 1722\n"
     ]
    }
   ],
   "source": [
    "\n",
    "with open('Testing/Project-Dataset/jaipur_attraction_urls.txt', newline='') as f:\n",
    "    reader = csv.reader(f)\n",
    "    attraction_full_urllist = list(reader)\n",
    "\n",
    "print('Attraction urls file read successfully..')\n",
    "print(f'Number of Attractions: {len(attraction_full_urllist)}')"
   ]
  },
  {
   "cell_type": "code",
   "execution_count": 18,
   "metadata": {},
   "outputs": [
    {
     "name": "stdout",
     "output_type": "stream",
     "text": [
      "0\n",
      "50\n",
      "100\n",
      "150\n",
      "200\n",
      "250\n",
      "300\n",
      "350\n",
      "400\n",
      "450\n",
      "500\n",
      "550\n",
      "600\n"
     ]
    },
    {
     "ename": "AttributeError",
     "evalue": "'NoneType' object has no attribute 'find'",
     "output_type": "error",
     "traceback": [
      "\u001b[1;31m---------------------------------------------------------------------------\u001b[0m",
      "\u001b[1;31mAttributeError\u001b[0m                            Traceback (most recent call last)",
      "\u001b[1;32mC:\\Users\\ANANAY~1\\AppData\\Local\\Temp/ipykernel_1564/2735672788.py\u001b[0m in \u001b[0;36m<module>\u001b[1;34m\u001b[0m\n\u001b[0;32m     10\u001b[0m     \u001b[0mdiv1\u001b[0m \u001b[1;33m=\u001b[0m \u001b[0msoup\u001b[0m\u001b[1;33m.\u001b[0m\u001b[0mfind\u001b[0m\u001b[1;33m(\u001b[0m\u001b[1;34m'div'\u001b[0m\u001b[1;33m,\u001b[0m \u001b[0mclass_\u001b[0m \u001b[1;33m=\u001b[0m \u001b[1;34m'uitk-flex uitk-flex-column uitk-layout-grid-item uitk-layout-grid-item-columnspan-small-12 uitk-layout-grid-item-columnspan-large-4 uitk-card all-r-padding-six'\u001b[0m\u001b[1;33m)\u001b[0m\u001b[1;33m\u001b[0m\u001b[1;33m\u001b[0m\u001b[0m\n\u001b[0;32m     11\u001b[0m \u001b[1;33m\u001b[0m\u001b[0m\n\u001b[1;32m---> 12\u001b[1;33m     \u001b[0mattraction_name\u001b[0m \u001b[1;33m=\u001b[0m \u001b[0mdiv1\u001b[0m\u001b[1;33m.\u001b[0m\u001b[0mfind\u001b[0m\u001b[1;33m(\u001b[0m\u001b[1;34m'h1'\u001b[0m\u001b[1;33m)\u001b[0m\u001b[1;33m.\u001b[0m\u001b[0mtext\u001b[0m\u001b[1;33m\u001b[0m\u001b[1;33m\u001b[0m\u001b[0m\n\u001b[0m\u001b[0;32m     13\u001b[0m     \u001b[1;32mtry\u001b[0m\u001b[1;33m:\u001b[0m\u001b[1;33m\u001b[0m\u001b[1;33m\u001b[0m\u001b[0m\n\u001b[0;32m     14\u001b[0m         \u001b[0mattraction_rating\u001b[0m \u001b[1;33m=\u001b[0m \u001b[0mdiv1\u001b[0m\u001b[1;33m.\u001b[0m\u001b[0mfind\u001b[0m\u001b[1;33m(\u001b[0m\u001b[1;34m'div'\u001b[0m\u001b[1;33m,\u001b[0m \u001b[0mclass_\u001b[0m \u001b[1;33m=\u001b[0m \u001b[1;34m'uitk-text uitk-type-500 uitk-type-bold uitk-flex-align-self-center uitk-flex-item uitk-text-default-theme'\u001b[0m\u001b[1;33m)\u001b[0m\u001b[1;33m.\u001b[0m\u001b[0mtext\u001b[0m\u001b[1;33m[\u001b[0m\u001b[1;36m0\u001b[0m\u001b[1;33m:\u001b[0m\u001b[1;33m-\u001b[0m\u001b[1;36m2\u001b[0m\u001b[1;33m]\u001b[0m\u001b[1;33m\u001b[0m\u001b[1;33m\u001b[0m\u001b[0m\n",
      "\u001b[1;31mAttributeError\u001b[0m: 'NoneType' object has no attribute 'find'"
     ]
    }
   ],
   "source": [
    "attraction_info = []\n",
    "for iter_val in range(len(attraction_full_urllist)):\n",
    "    url = str(attraction_full_urllist[iter_val])[2:-2]\n",
    "\n",
    "    # Get the attraction page from url and create a beautiful soup instance\n",
    "    html_text = requests.get(url).text\n",
    "    soup = BeautifulSoup(html_text, 'lxml')\n",
    "\n",
    "    # BASIC INFORMATION\n",
    "    div1 = soup.find('div', class_ = 'uitk-flex uitk-flex-column uitk-layout-grid-item uitk-layout-grid-item-columnspan-small-12 uitk-layout-grid-item-columnspan-large-4 uitk-card all-r-padding-six')\n",
    "\n",
    "    attraction_name = div1.find('h1').text\n",
    "    try:\n",
    "        attraction_rating = div1.find('div', class_ = 'uitk-text uitk-type-500 uitk-type-bold uitk-flex-align-self-center uitk-flex-item uitk-text-default-theme').text[0:-2]\n",
    "    except:\n",
    "        attraction_rating = ''\n",
    "    attraction_price = div1.find('span', class_ = 'uitk-lockup-price').text\n",
    "\n",
    "    # FEATURES\n",
    "    features_div = soup.find('div', class_ = 'uitk-layout-grid uitk-layout-grid-gap-one uitk-layout-grid-columns-12')\n",
    "    features_div = features_div.find_all('div', class_ = 'uitk-text uitk-type-300 uitk-spacing uitk-spacing-margin-inlinestart-one uitk-text-default-theme')\n",
    "\n",
    "    attraction_features = []\n",
    "\n",
    "    for feature in features_div:\n",
    "        attraction_features.append(feature.text)\n",
    "    \n",
    "    # LOCATION\n",
    "    location = soup.find('img', class_ = \"uitk-image-media uitk-card-roundcorner-all padding-bottom-zero\")\n",
    "\n",
    "    location_link = location.attrs['src']\n",
    "    coords = re.findall('%7C[0-9]+.[0-9]+,[0-9]+.[0-9]+', location_link).pop(1)\n",
    "    coords = coords[3:]\n",
    "    latitude, longitude = coords.split(\",\")\n",
    "\n",
    "    # CATEGORY\n",
    "    attraction_category = re.findall('.categories=\\w+', url)[0].replace('.categories=', '')\n",
    "\n",
    "    attraction_info.append([iter_val+1, attraction_name, attraction_category, attraction_rating, attraction_price, latitude, longitude, \"Jaipur\", \"India\"])\n",
    "    if iter_val%50 == 0:\n",
    "        print(iter_val)\n",
    "\n",
    "print(f\"Extracted info of {len(attraction_info)} attractions\")\n"
   ]
  },
  {
   "cell_type": "code",
   "execution_count": 19,
   "metadata": {},
   "outputs": [],
   "source": [
    "def create_csv(fields, rows, dirname, filename):\n",
    "    with open(dirname+filename, 'w', encoding='UTF8', newline='') as csvfile: \n",
    "        # creating a csv writer object\n",
    "        csvwriter = csv.writer(csvfile)\n",
    "        csvwriter.writerow(fields) \n",
    "        csvwriter.writerows(rows)\n",
    "    print(f\"Saved csv with name {filename}\")"
   ]
  },
  {
   "cell_type": "code",
   "execution_count": 20,
   "metadata": {},
   "outputs": [
    {
     "name": "stdout",
     "output_type": "stream",
     "text": [
      "Saved csv with name attraction_info.csv\n",
      "Hotel Dataframe updated..\n"
     ]
    }
   ],
   "source": [
    "fields = ['attraction_id', 'attraction_name','attraction_category', 'attraction_rating', 'attraction_price', 'latitude', 'longitude', 'city', 'country']\n",
    "create_csv(fields, attraction_info, \"Testing/Project-Dataset/\", \"attraction_info.csv\")\n",
    "print('Hotel Dataframe updated..')"
   ]
  },
  {
   "cell_type": "code",
   "execution_count": 21,
   "metadata": {},
   "outputs": [],
   "source": [
    "def make_json(csvFilePath, jsonFilePath):\n",
    "    \n",
    "    # create a dictionary\n",
    "    data = \"\"\n",
    "\n",
    "    # Open a csv reader called DictReader\n",
    "    with open(csvFilePath, encoding='utf-8') as csvf:\n",
    "        csvReader = csv.DictReader(csvf)\n",
    "\n",
    "        # Convert each row into a dictionary\n",
    "        # and add it to data\n",
    "        for rows in csvReader:\n",
    "\n",
    "            # Assuming a column named 'No' to\n",
    "            # be the primary key\n",
    "            \n",
    "            data = data+'\\n'\n",
    " \n",
    "    # Open a json writer, and use the json.dumps()\n",
    "    # function to dump data\n",
    "    with open(jsonFilePath, 'w', encoding='utf-8') as jsonf:\n",
    "        jsonf.write(json.dumps(data ,indent=1))\n",
    "\n",
    "# Driver Code\n",
    " \n",
    "# Decide the two file paths according to your\n",
    "# computer system\n",
    "csvFilePath = r'Testing/Project-Dataset/hotel_info.csv'\n",
    "jsonFilePath = r'Testing/Project-Dataset/hotel_info3.json'\n",
    " \n",
    "# Call the make_json function\n",
    "make_json(csvFilePath, jsonFilePath)"
   ]
  }
 ],
 "metadata": {
  "interpreter": {
   "hash": "eaa29a38bd2b6d3dd4d71a3f1d87df91209d6946247085b4849f410a246e8dc0"
  },
  "kernelspec": {
   "display_name": "Python 3.9.7 64-bit",
   "language": "python",
   "name": "python3"
  },
  "language_info": {
   "codemirror_mode": {
    "name": "ipython",
    "version": 3
   },
   "file_extension": ".py",
   "mimetype": "text/x-python",
   "name": "python",
   "nbconvert_exporter": "python",
   "pygments_lexer": "ipython3",
   "version": "3.9.7"
  },
  "orig_nbformat": 4
 },
 "nbformat": 4,
 "nbformat_minor": 2
}
