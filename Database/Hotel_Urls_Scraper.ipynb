{
 "cells": [
  {
   "cell_type": "code",
   "execution_count": 1,
   "metadata": {},
   "outputs": [
    {
     "name": "stdout",
     "output_type": "stream",
     "text": [
      "Libraries Imported\n"
     ]
    }
   ],
   "source": [
    "from selenium import webdriver\n",
    "from bs4 import BeautifulSoup\n",
    "import time\n",
    "import random\n",
    "import csv\n",
    "import json\n",
    "import pandas as pd\n",
    "print(\"Libraries Imported\")"
   ]
  },
  {
   "cell_type": "code",
   "execution_count": 2,
   "metadata": {},
   "outputs": [
    {
     "name": "stdout",
     "output_type": "stream",
     "text": [
      "all module are loaded \n"
     ]
    }
   ],
   "source": [
    "# Spoofer code\n",
    "try:\n",
    "\n",
    "    import sys\n",
    "    import os\n",
    "\n",
    "    from fp.fp import FreeProxy\n",
    "    from fake_useragent import UserAgent\n",
    "    from bs4 import BeautifulSoup\n",
    "    from selenium import webdriver\n",
    "    from selenium.webdriver import Chrome\n",
    "    from selenium.webdriver.common.keys import Keys\n",
    "    from selenium.webdriver.common.by import By\n",
    "    from selenium.webdriver.chrome.options import Options\n",
    "    from selenium.webdriver.support.ui import WebDriverWait\n",
    "    from selenium.webdriver.common.action_chains import ActionChains\n",
    "    from selenium.webdriver.support import expected_conditions as EC\n",
    "    from selenium.common.exceptions import TimeoutException\n",
    "    import time\n",
    "    print('all module are loaded ')\n",
    "\n",
    "except Exception as e:\n",
    "\n",
    "    print(\"Error ->>>: {} \".format(e))\n",
    "\n",
    "\n",
    "class Spoofer(object):\n",
    "\n",
    "    def __init__(self, country_id=['US', 'HK'], rand=True, anonym=True):\n",
    "        self.country_id = country_id\n",
    "        self.rand = rand\n",
    "        self.anonym = anonym\n",
    "        self.userAgent, self.ip = self.get()\n",
    "\n",
    "    def get(self):\n",
    "        ua = UserAgent()\n",
    "        proxy = FreeProxy(country_id=self.country_id, rand=self.rand, anonym=self.anonym).get()\n",
    "        ip = proxy.split(\"://\")[1]\n",
    "        return ua.random, ip\n",
    "\n",
    "\n",
    "class DriverOptions(object):\n",
    "\n",
    "    def __init__(self):\n",
    "\n",
    "        self.options = Options()\n",
    "        self.options.add_argument('--no-sandbox')\n",
    "        self.options.add_argument('--start-maximized')\n",
    "        self.options.add_argument('--start-fullscreen')\n",
    "        self.options.add_argument('--single-process')\n",
    "        self.options.add_argument('--disable-dev-shm-usage')\n",
    "        self.options.add_argument(\"--incognito\")\n",
    "        self.options.add_argument('--disable-blink-features=AutomationControlled')\n",
    "        self.options.add_argument('--disable-blink-features=AutomationControlled')\n",
    "        self.options.add_experimental_option('useAutomationExtension', False)\n",
    "        self.options.add_experimental_option(\"excludeSwitches\", [\"enable-automation\"])\n",
    "        self.options.add_argument(\"disable-infobars\")\n",
    "\n",
    "        self.helperSpoofer = Spoofer()\n",
    "\n",
    "        self.options.add_argument('user-agent={}'.format(self.helperSpoofer.userAgent))\n",
    "        self.options.add_argument('--proxy-server=%s' % self.helperSpoofer.ip)\n",
    "\n",
    "\n",
    "class WebDriver(DriverOptions):\n",
    "\n",
    "    def __init__(self, path=''):\n",
    "        DriverOptions.__init__(self)\n",
    "        self.driver_instance = self.get_driver()\n",
    "\n",
    "    def get_driver(self):\n",
    "\n",
    "        print(\"\"\"\n",
    "        IP:{}\n",
    "        UserAgent: {}\n",
    "        \"\"\".format(self.helperSpoofer.ip, self.helperSpoofer.userAgent))\n",
    "\n",
    "        PROXY = self.helperSpoofer.ip\n",
    "        webdriver.DesiredCapabilities.CHROME['proxy'] = {\n",
    "            \"httpProxy\":PROXY,\n",
    "            \"ftpProxy\":PROXY,\n",
    "            \"sslProxy\":PROXY,\n",
    "            \"noProxy\":None,\n",
    "            \"proxyType\":\"MANUAL\",\n",
    "            \"autodetect\":False\n",
    "        }\n",
    "        webdriver.DesiredCapabilities.CHROME['acceptSslCerts'] = True\n",
    "\n",
    "        path = os.path.join(os.getcwd(), '/chromedriver.exe')\n",
    "\n",
    "        driver = webdriver.Chrome()\n",
    "        driver.execute_script(\"Object.defineProperty(navigator, 'webdriver', {get: () => undefined})\")\n",
    "        driver.execute_cdp_cmd(\"Page.addScriptToEvaluateOnNewDocument\", {\n",
    "            \"source\":\n",
    "                \"const newProto = navigator.__proto__;\"\n",
    "                \"delete newProto.webdriver;\"\n",
    "                \"navigator.__proto__ = newProto;\"\n",
    "        })\n",
    "\n",
    "        return driver"
   ]
  },
  {
   "cell_type": "code",
   "execution_count": 3,
   "metadata": {},
   "outputs": [],
   "source": [
    "def create_csv(fields, rows, dirname, filename):\n",
    "    with open(dirname+filename, 'w', encoding='UTF8', newline='') as csvfile: \n",
    "        # creating a csv writer object\n",
    "        csvwriter = csv.writer(csvfile)\n",
    "        csvwriter.writerow(fields) \n",
    "        csvwriter.writerows(rows)\n",
    "    print(f\"Saved csv with name {filename}\")"
   ]
  },
  {
   "cell_type": "code",
   "execution_count": 38,
   "metadata": {},
   "outputs": [
    {
     "name": "stdout",
     "output_type": "stream",
     "text": [
      "Driver creation failed.....Trying again\n",
      "\n",
      "        IP:20.47.108.204:8888\n",
      "        UserAgent: Mozilla/5.0 (Windows NT 5.1) AppleWebKit/537.36 (KHTML, like Gecko) Chrome/34.0.1866.237 Safari/537.36\n",
      "        \n",
      "Driver Successfully created\n"
     ]
    }
   ],
   "source": [
    "# Create anti bot detection web driver\n",
    "\n",
    "while True:\n",
    "    try:\n",
    "        driver = WebDriver()\n",
    "        break\n",
    "    except: # If Driver creation fails try again\n",
    "        print(\"Driver creation failed.....Trying again\")\n",
    "        continue\n",
    "print(\"Driver Successfully created\")"
   ]
  },
  {
   "cell_type": "code",
   "execution_count": 61,
   "metadata": {},
   "outputs": [
    {
     "name": "stdout",
     "output_type": "stream",
     "text": [
      "Button not Found, ending search\n"
     ]
    }
   ],
   "source": [
    "# Create Driver instance and open the webpage through selenium\n",
    "\n",
    "driverinstance = driver.driver_instance\n",
    "url = \"https://www.expedia.com/Hotel-Search?adults=2&d1=2022-04-13&d2=2022-04-14&destination=Jodhpur%2C%20Rajasthan%2C%20India&endDate=2022-04-14&latLong=26.284334%2C73.016013&regionId=1678&rooms=1&semdtl=&sort=RECOMMENDED&startDate=2022-04-13&theme=&useRewards=false&userIntent=\"\n",
    "driverinstance.get(url)\n",
    "\n",
    "# Click on the \"SHOW MORE\" button 20 times to load enough hotels \n",
    "for i in range(5):\n",
    "    sleep_time = 5 + 5*random.random()\n",
    "    time.sleep(sleep_time)\n",
    "    driverinstance.execute_script(\"window.scrollTo(0,document.body.scrollHeight)\")\n",
    "    try:\n",
    "        button = driverinstance.find_element_by_xpath('//*[@class=\"uitk-button uitk-button-medium uitk-button-secondary\"]')\n",
    "        button.click()\n",
    "    except:\n",
    "        print(\"Button not Found, ending search\")\n",
    "        break\n",
    "\n",
    "# Create BeautifulSoup instance and search for each hotel on the page to get it's link\n",
    "\n",
    "soup = str(BeautifulSoup(driverinstance.page_source, 'html.parser'))\n",
    "soup = BeautifulSoup(soup, 'lxml')\n"
   ]
  },
  {
   "cell_type": "code",
   "execution_count": 62,
   "metadata": {},
   "outputs": [],
   "source": [
    "\n",
    "ol = soup.find('ol' , class_  = 'results-list no-bullet').find_all('li', attrs={\"data-stid\":\"property-listing\"})\n",
    "\n",
    "hotel_url_li = []\n",
    "hotel_name_li = []\n",
    "hotel_price_li = []\n",
    "\n",
    "for li in ol:\n",
    "    hotel_url = li.find('a', class_='listing__link uitk-card-link')\n",
    "    hotel_name = li.find('h3' , class_='uitk-heading-5 is-visually-hidden')\n",
    "    # hotel_price_div = li.find('div', class_ = \"uitk-text uitk-type-600 uitk-type-bold uitk-text-emphasis-theme\")\n",
    "    try:\n",
    "        hotel_price = li.find('div', class_ = \"uitk-text uitk-type-600 uitk-type-bold uitk-text-emphasis-theme\").text\n",
    "    except:\n",
    "        hotel_price = \"\"\n",
    "    hotel_url_li.append(hotel_url)\n",
    "    hotel_name_li.append(hotel_name)\n",
    "    hotel_price_li.append(hotel_price)"
   ]
  },
  {
   "cell_type": "code",
   "execution_count": 63,
   "metadata": {},
   "outputs": [
    {
     "name": "stdout",
     "output_type": "stream",
     "text": [
      "178\n",
      "['$160', '$136', '$266', '$87', '$191', '$101', '$37', '$160', '$173', '$64', '$80', '$60', '$73', '$596', '$42', '$60', '$224', '$43', '$31', '$22', '$19', '$54', '$60', '$27', '$154', '$30', '$34', '$54', '$38', '$58', '$27', '$40', '$280', '$7', '$54', '$12', '$27', '$40', '$60', '$30', '$47', '$12', '$155', '$30', '$56', '$23', '$30', '$15', '$34', '$23', '$10', '$43', '$32', '$12', '$15', '$54', '$80', '$98', '', '', '', '', '', '', '', '', '', '', '', '', '', '', '', '', '', '', '', '', '', '', '', '', '', '', '', '', '', '', '', '', '', '', '', '', '', '', '', '', '', '', '', '', '', '', '', '', '', '', '', '', '', '', '', '', '', '', '', '', '', '', '', '', '', '', '', '', '', '', '', '', '', '', '', '', '', '', '', '', '', '', '', '', '', '', '', '', '', '', '', '', '', '', '', '', '', '', '', '', '', '', '', '', '', '', '', '', '', '', '', '', '', '', '', '', '', '', '', '']\n"
     ]
    }
   ],
   "source": [
    "print(len(ol))\n",
    "print(hotel_price_li)"
   ]
  },
  {
   "cell_type": "code",
   "execution_count": 64,
   "metadata": {},
   "outputs": [
    {
     "name": "stdout",
     "output_type": "stream",
     "text": [
      "Number of hotels found: 178\n",
      "\n"
     ]
    }
   ],
   "source": [
    "hotel_url_list = []\n",
    "hotel_info = []\n",
    "\n",
    "hotel_length = len(hotel_url_li)\n",
    "print(f\"Number of hotels found: {hotel_length}\\n\")\n",
    "for i in range(hotel_length):\n",
    "    hotel_url_list.append(\"https://www.expedia.com\"+hotel_url_li[i].attrs['href'])\n",
    "    ls = [i+1, hotel_name_li[i].text, hotel_price_li[i][1:]]\n",
    "    hotel_info.append(ls)"
   ]
  },
  {
   "cell_type": "code",
   "execution_count": 65,
   "metadata": {},
   "outputs": [
    {
     "name": "stdout",
     "output_type": "stream",
     "text": [
      "Saved csv with name Jodhpur_hotels.csv\n"
     ]
    }
   ],
   "source": [
    "# Create CSV for name and price of the hotels\n",
    "\n",
    "fields = ['hotel_id', 'hotel_name', 'hotel_price']\n",
    "create_csv(fields, hotel_info, \"Project-Dataset/hotel urls/\", \"Jodhpur_hotels.csv\")"
   ]
  },
  {
   "cell_type": "code",
   "execution_count": 59,
   "metadata": {},
   "outputs": [],
   "source": [
    "# Save all the links in a text file\n",
    "\n",
    "with open(\"Project-Dataset/hotel urls/Jodhpur_hotel_urls.txt\", 'w') as output:\n",
    "    for row in hotel_url_list:\n",
    "        output.write(str(row) + '\\n')"
   ]
  }
 ],
 "metadata": {
  "interpreter": {
   "hash": "0ac516125b3ee16d4eaa41f008fade7bad50b808bd1b6d74d2e8ae0015ba9066"
  },
  "kernelspec": {
   "display_name": "Python 3.9.6 64-bit",
   "name": "python3"
  },
  "language_info": {
   "codemirror_mode": {
    "name": "ipython",
    "version": 3
   },
   "file_extension": ".py",
   "mimetype": "text/x-python",
   "name": "python",
   "nbconvert_exporter": "python",
   "pygments_lexer": "ipython3",
   "version": "3.9.6"
  },
  "orig_nbformat": 4
 },
 "nbformat": 4,
 "nbformat_minor": 2
}
