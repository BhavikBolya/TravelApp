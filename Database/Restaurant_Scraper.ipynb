{
 "cells": [
  {
   "cell_type": "code",
   "execution_count": 37,
   "metadata": {},
   "outputs": [
    {
     "name": "stdout",
     "output_type": "stream",
     "text": [
      "All required libraries have been successfully imported.\n"
     ]
    }
   ],
   "source": [
    "from bs4 import BeautifulSoup\n",
    "import requests\n",
    "import re\n",
    "import pandas as pd\n",
    "import numpy as np\n",
    "import csv\n",
    "import json\n",
    "import time\n",
    "from selenium import webdriver\n",
    "print('All required libraries have been successfully imported.')"
   ]
  },
  {
   "cell_type": "code",
   "execution_count": 38,
   "metadata": {},
   "outputs": [],
   "source": [
    "def create_csv(fields, rows, dirname, filename):\n",
    "    with open(dirname+filename, 'w', encoding='UTF8', newline='') as csvfile: \n",
    "        # creating a csv writer object\n",
    "        csvwriter = csv.writer(csvfile)\n",
    "        csvwriter.writerow(fields) \n",
    "        csvwriter.writerows(rows)\n",
    "    print(f\"Saved csv with name {filename}\")"
   ]
  },
  {
   "cell_type": "code",
   "execution_count": 39,
   "metadata": {},
   "outputs": [
    {
     "name": "stdout",
     "output_type": "stream",
     "text": [
      "267\n",
      "Restaurant urls CSV file read successfully..\n"
     ]
    }
   ],
   "source": [
    "# hotel_full_urllist = pd.read_csv(\"Project-Dataset/jaipur_hotel_urls.txt\")\n",
    "with open('Project-Dataset/restaurant_urls/jaisalmer_restaurant_urls.txt', newline='') as f:\n",
    "    reader = csv.reader(f)\n",
    "    restaurant_full_urllist = list(reader)\n",
    "# print(hotel_full_urllist)\n",
    "print(len(restaurant_full_urllist))\n",
    "print('Restaurant urls CSV file read successfully..')"
   ]
  },
  {
   "cell_type": "code",
   "execution_count": 56,
   "metadata": {},
   "outputs": [
    {
     "name": "stdout",
     "output_type": "stream",
     "text": [
      "1 2 3 4 5 6 7 8 9 10 11 12 13 14 15 16 17 18 19 20 21 22 23 24 25 26 27 28 29 30 31 32 33 34 35 36 37 38 39 40 41 42 43 44 45 46 47 48 49 50 51 52 53 54 55 56 57 58 59 60 61 62 63 64 65 66 67 68 69 70 71 72 73 74 75 76 77 78 79 80 81 82 83 84 85 86 87 88 89 90 91 92 93 94 95 96 97 98 99 100 101 102 103 104 105 106 107 108 109 110 111 112 113 114 115 116 117 118 119 120 121 122 123 124 125 126 127 128 129 130 131 132 133 134 135 136 137 138 139 140 141 142 143 144 145 146 147 148 149 150 151 152 153 154 155 156 157 158 159 160 161 162 163 164 165 166 167 168 169 170 171 172 173 174 175 176 177 178 179 180 181 182 183 184 185 186 187 188 189 190 191 192 193 194 195 196 197 198 199 200 201 202 203 204 205 206 207 208 209 210 211 212 213 214 215 216 217 218 219 220 221 222 223 224 225 226 227 228 229 230 231 232 233 234 235 236 237 238 239 240 241 242 243 244 245 246 247 248 249 250 251 252 253 254 255 256 257 258 259 260 261 262 263 264 265 266 267 Batch- Collection successfully done..\n",
      "\n"
     ]
    }
   ],
   "source": [
    "length_df = int(len(restaurant_full_urllist))\n",
    "rest_info = []\n",
    "\n",
    "driverinstance = webdriver.Chrome()\n",
    "\n",
    "for iter_val in range(length_df):\n",
    "    print(iter_val+1, end=\" \")\n",
    "    try:\n",
    "        url = str(restaurant_full_urllist[iter_val])[2:-2]\n",
    "        driverinstance.get(url)\n",
    "\n",
    "        soup = str(BeautifulSoup(driverinstance.page_source, 'html.parser'))\n",
    "        soup = BeautifulSoup(soup, 'lxml')\n",
    "\n",
    "        # BASIC INFO\n",
    "        try:\n",
    "            restaurant_name = soup.find(\"h1\", class_ = \"fHibz\").text\n",
    "            restaurant_address = soup.find_all('a', class_ = \"fhGHT\")[1].text\n",
    "            restaurant_timing = soup.find('span', class_ = \"cSjwK\").text[11:]\n",
    "        except:\n",
    "            continue\n",
    "        try:\n",
    "            restaurant_url = soup.find('a', class_=\"dOGcA Ci Wc _S C fhGHT\").attrs['href']\n",
    "        except:\n",
    "            restaurant_url = \"\"\n",
    "        \n",
    "        try:\n",
    "            restaurant_rating = soup.find('span', class_ = \"fdsdx\").text\n",
    "            restaurant_reviews = soup.find('a', class_ = \"dUfZJ\").text.split(\" \")[0]\n",
    "        except:\n",
    "            restaurant_rating = \"\"\n",
    "            restaurant_reviews = \"\"\n",
    "            \n",
    "        \n",
    "        restaurant_location = soup.find('a', class_ = \"dOGcA Ci Wc _S C dkdrG\").attrs['href']\n",
    "        coords = re.findall('@[0-9]+.[0-9]+,[0-9]+.[0-9]+', restaurant_location)[0][1:]\n",
    "\n",
    "        latitude, longitude = coords.split(\",\")\n",
    "\n",
    "        try: \n",
    "            driverinstance.find_element_by_xpath(\".//*[contains(text(), 'View all details')]\").click()\n",
    "            \n",
    "            soup2 = str(BeautifulSoup(driverinstance.page_source, 'html.parser'))\n",
    "            soup2 = BeautifulSoup(soup2, 'lxml')\n",
    "            \n",
    "            try:\n",
    "                restaurant_about = soup2.find('div', class_ = \"OMpFN\").text\n",
    "            except:\n",
    "                restaurant_about = \"None\"\n",
    "            restaurant_info = soup2.find('div', class_ = \"gapux\")\n",
    "            \n",
    "            x = restaurant_info.find_all('div', class_ = \"dMshX b\")\n",
    "            y = restaurant_info.find_all('div', class_ = \"cfvAV\")\n",
    "            dic = {}\n",
    "            if len(x) == len(y):\n",
    "                for i in range(len(x)):\n",
    "                    dic[x[i].text] = y[i].text\n",
    "\n",
    "            try:\n",
    "                cuisines = dic[\"CUISINES\"]\n",
    "            except:\n",
    "                cuisines = \"None\"\n",
    "\n",
    "            try:\n",
    "                features = dic[\"FEATURES\"]\n",
    "            except:\n",
    "                features = \"None\"\n",
    "            \n",
    "            try:\n",
    "                meals = dic[\"MEALS\"]\n",
    "            except:\n",
    "                meals = \"None\"\n",
    "        except:\n",
    "            cuisines_list = soup.find_all('a', class_ = \"drUyy\")[1:]\n",
    "            ls = []\n",
    "            for i in cuisines_list:\n",
    "                ls.append(i.text)\n",
    "            cuisines = \", \".join(ls)\n",
    "            restaurant_about = \"None\"\n",
    "            features = \"None\"\n",
    "            meals = \"None\"\n",
    "        \n",
    "        # print(restaurant_name)\n",
    "        # print(restaurant_address)\n",
    "        # print(restaurant_url)\n",
    "        # print(restaurant_timing)\n",
    "        # print(restaurant_rating)\n",
    "        # print(restaurant_reviews)\n",
    "        # print(restaurant_about)\n",
    "        # print(dic)\n",
    "        # print(latitude, longitude)\n",
    "        # print()\n",
    "\n",
    "        rest_info1 = [iter_val+1,restaurant_name,restaurant_url,restaurant_address, 'Jaisalmer', 'India', latitude, longitude, restaurant_location, restaurant_timing, restaurant_rating, restaurant_reviews, restaurant_about, cuisines, features, meals]\n",
    "        rest_info.append(rest_info1)\n",
    "    except:\n",
    "        continue\n",
    "print(\"Batch- Collection successfully done..\\n\")"
   ]
  },
  {
   "cell_type": "code",
   "execution_count": 57,
   "metadata": {},
   "outputs": [
    {
     "name": "stdout",
     "output_type": "stream",
     "text": [
      "Saved csv with name Jaisalmer_restaurant_info.csv\n"
     ]
    }
   ],
   "source": [
    "fields = ['rest_id', 'rest_name', 'rest_url', 'rest_address', 'city', 'country', \"latitude\", \"longitude\", 'location_url', 'rest_timing', 'rest_rating', 'rest_review', 'rest_about',  \"cuisines\", \"features\", \"meals\"]\n",
    "create_csv(fields, rest_info, \"Project-Dataset/\", \"Jaisalmer_restaurant_info.csv\")"
   ]
  }
 ],
 "metadata": {
  "interpreter": {
   "hash": "eaa29a38bd2b6d3dd4d71a3f1d87df91209d6946247085b4849f410a246e8dc0"
  },
  "kernelspec": {
   "display_name": "Python 3.9.7 64-bit",
   "language": "python",
   "name": "python3"
  },
  "language_info": {
   "codemirror_mode": {
    "name": "ipython",
    "version": 3
   },
   "file_extension": ".py",
   "mimetype": "text/x-python",
   "name": "python",
   "nbconvert_exporter": "python",
   "pygments_lexer": "ipython3",
   "version": "3.9.7"
  },
  "orig_nbformat": 4
 },
 "nbformat": 4,
 "nbformat_minor": 2
}
