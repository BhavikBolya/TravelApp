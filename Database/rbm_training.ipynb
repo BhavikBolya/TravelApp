{
 "cells": [
  {
   "cell_type": "code",
   "execution_count": 1,
   "metadata": {
    "colab": {},
    "colab_type": "code",
    "id": "lupU-E6jF4rX"
   },
   "outputs": [],
   "source": [
    "import numpy as np\n",
    "from utils import Util\n",
    "from rbm import RBM\n",
    "from IPython.display import display as d"
   ]
  },
  {
   "cell_type": "code",
   "execution_count": 2,
   "metadata": {
    "colab": {
     "base_uri": "https://localhost:8080/",
     "height": 136
    },
    "colab_type": "code",
    "id": "ooF69zE8F4rg",
    "outputId": "47e91d5c-0bc0-488a-862e-3870bddac901",
    "scrolled": true
   },
   "outputs": [
    {
     "name": "stdout",
     "output_type": "stream",
     "text": [
      "Reading the data\n",
      "Extracting num_rows from ratings\n",
      "Preprocessing the dataset\n",
      "Free energy required, dividing into train and validation sets\n",
      "Total size of the data is: 661\n",
      "Size of the training data is: 495\n",
      "Size of the validation data is: 166\n"
     ]
    }
   ],
   "source": [
    "util = Util()\n",
    "dir = 'etl/'\n",
    "rows = 5000\n",
    "ratings, attractions = util.read_data(dir)\n",
    "ratings = util.clean_subset(ratings,rows)\n",
    "num_vis =  len(ratings)\n",
    "free_energy = True\n",
    "train = util.preprocess(ratings)\n",
    "valid = None\n",
    "if free_energy:\n",
    "    train, valid = util.split_data(train)\n",
    "H = 128\n",
    "user = 1\n",
    "alpha = 0.01\n",
    "w = np.random.normal(loc=0, scale=0.01, size=[num_vis, H])\n",
    "rbm = RBM(alpha, H, num_vis)\n",
    "epochs = 20\n",
    "batch_size = 8\n",
    "\n",
    "v = True"
   ]
  },
  {
   "cell_type": "code",
   "execution_count": 3,
   "metadata": {
    "colab": {
     "base_uri": "https://localhost:8080/",
     "height": 1020
    },
    "colab_type": "code",
    "id": "J5PJgwXUF4rr",
    "outputId": "3f073abd-ea4f-4804-c536-fd07879007af"
   },
   "outputs": [
    {
     "name": "stdout",
     "output_type": "stream",
     "text": [
      "Phase 1: Input Processing\n",
      "Phase 2: Reconstruction\n",
      "Creating the gradients\n",
      "Running the session\n",
      "Training RBM with 20 epochs and batch size: 8\n",
      "Starting the training process\n",
      "Error after 1 epochs is: 0.37860387563705444\n",
      "Error after 2 epochs is: 0.29636475443840027\n",
      "Error after 3 epochs is: 0.20843638479709625\n",
      "Error after 4 epochs is: 0.12539297342300415\n",
      "Error after 5 epochs is: 0.06681076437234879\n",
      "Error after 6 epochs is: 0.033798396587371826\n",
      "Error after 7 epochs is: 0.016784338280558586\n",
      "Error after 8 epochs is: 0.010448258370161057\n",
      "Error after 9 epochs is: 0.007725429255515337\n",
      "Error after 10 epochs is: 0.006329066585749388\n",
      "Error after 11 epochs is: 0.005559612065553665\n",
      "Error after 12 epochs is: 0.005038642790168524\n",
      "Error after 13 epochs is: 0.004716461058706045\n",
      "Error after 14 epochs is: 0.004329874645918608\n",
      "Error after 15 epochs is: 0.0042089857161045074\n",
      "Error after 16 epochs is: 0.00402821833267808\n",
      "Error after 17 epochs is: 0.003944015596061945\n",
      "Error after 18 epochs is: 0.0037824809551239014\n",
      "Error after 19 epochs is: 0.0037404608447104692\n",
      "Error after 20 epochs is: 0.003576501039788127\n",
      "Exporting free energy plot\n",
      "Exporting errors vs epochs plot\n",
      "Model restored\n"
     ]
    }
   ],
   "source": [
    "filename = \"e\"+str(epochs)+\"_r\"+str(rows)+\"_lr\"+str(alpha)+\"_hu\"+str(H)+\"_bs\"+str(batch_size)\n",
    "reco, prv_w, prv_vb, prv_hb = rbm.training(train, valid, user, epochs, batch_size, free_energy, v, filename)\n",
    "reco_l, prv_w_l, prv_vb_l, prv_hb_l = rbm.load_predict(filename, train, user)"
   ]
  },
  {
   "cell_type": "code",
   "execution_count": 4,
   "metadata": {
    "colab": {
     "base_uri": "https://localhost:8080/",
     "height": 34
    },
    "colab_type": "code",
    "id": "yzzhmao2F4rz",
    "outputId": "b2996fcb-c4eb-40da-aa3f-52c239320015"
   },
   "outputs": [
    {
     "name": "stdout",
     "output_type": "stream",
     "text": [
      "Model saved and loaded successfully\n"
     ]
    }
   ],
   "source": [
    "if np.all(prv_w == prv_w_l) and np.all(prv_vb == prv_vb_l) and np.all(prv_hb == prv_hb_l):\n",
    "    print (\"Model saved and loaded successfully\")"
   ]
  },
  {
   "cell_type": "code",
   "execution_count": 6,
   "metadata": {
    "colab": {},
    "colab_type": "code",
    "id": "Lt77vmlwF4r7",
    "scrolled": true
   },
   "outputs": [],
   "source": [
    "unseen, seen = rbm.calculate_scores(ratings, attractions, reco_l, user)\n",
    "rbm.export(unseen, seen, 'recommendations/'+filename, str(user))"
   ]
  }
 ],
 "metadata": {
  "accelerator": "GPU",
  "colab": {
   "name": "rbm_attraction.ipynb",
   "provenance": [],
   "version": "0.3.2"
  },
  "kernelspec": {
   "display_name": "Python 3",
   "language": "python",
   "name": "python3"
  },
  "language_info": {
   "codemirror_mode": {
    "name": "ipython",
    "version": 3
   },
   "file_extension": ".py",
   "mimetype": "text/x-python",
   "name": "python",
   "nbconvert_exporter": "python",
   "pygments_lexer": "ipython3",
   "version": "3.7.2"
  }
 },
 "nbformat": 4,
 "nbformat_minor": 1
}
