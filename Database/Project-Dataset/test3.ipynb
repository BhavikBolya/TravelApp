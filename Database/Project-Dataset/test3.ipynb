{
 "cells": [
  {
   "cell_type": "code",
   "execution_count": 29,
   "metadata": {},
   "outputs": [
    {
     "name": "stdout",
     "output_type": "stream",
     "text": [
      "7260\n"
     ]
    }
   ],
   "source": [
    "import pandas as pd\n",
    "df = pd.read_csv('restaurants.csv')\n",
    "print(len(df.index))"
   ]
  },
  {
   "cell_type": "code",
   "execution_count": 30,
   "metadata": {},
   "outputs": [
    {
     "name": "stdout",
     "output_type": "stream",
     "text": [
      "1974\n"
     ]
    }
   ],
   "source": [
    "df2 = df.drop_duplicates(subset =\"rest_name\", keep = 'first', inplace = False)\n",
    "print(len(df2.index))"
   ]
  },
  {
   "cell_type": "code",
   "execution_count": 31,
   "metadata": {},
   "outputs": [
    {
     "name": "stderr",
     "output_type": "stream",
     "text": [
      "C:\\Users\\admin\\AppData\\Local\\Temp/ipykernel_15224/4213665184.py:3: SettingWithCopyWarning: \n",
      "A value is trying to be set on a copy of a slice from a DataFrame\n",
      "\n",
      "See the caveats in the documentation: https://pandas.pydata.org/pandas-docs/stable/user_guide/indexing.html#returning-a-view-versus-a-copy\n",
      "  df2['rest_id'][i] = j\n"
     ]
    }
   ],
   "source": [
    "j =1\n",
    "for i in range(len(df2.index)):\n",
    "    df2['rest_id'][i] = j\n",
    "    j+=1"
   ]
  },
  {
   "cell_type": "code",
   "execution_count": 28,
   "metadata": {},
   "outputs": [],
   "source": [
    "df2.to_csv('Rest.csv',index=False)"
   ]
  },
  {
   "cell_type": "code",
   "execution_count": 11,
   "metadata": {},
   "outputs": [
    {
     "name": "stdout",
     "output_type": "stream",
     "text": [
      "['Mithai', 'North Indian', 'South Indian', 'Street Food', 'Chinese', 'Continental', 'Momos', 'Mughlai', 'Italian', 'Finger Food', 'Mexican', 'Fast Food', 'Burger', 'Beverages', 'Cafe', 'Rajasthani', 'Asian', 'BBQ', 'Biryani', 'Rolls', 'Lebanese', 'Pizza', 'Kebab', 'Thai', 'Modern Indian', 'European', 'Spanish', 'Iranian', 'Japanese', 'Korean', 'Awadhi', 'Lucknowi', 'Afghan', 'Turkish', 'Tea', 'Ice Cream', 'Desserts', 'Maharashtrian', 'Bar Food', 'Indian', 'American', 'Coffee', 'Sandwich', 'Kashmiri', 'Seafood', 'Frozen Yogurt', 'Belgian', 'Bakery', 'Healthy Food', 'Salad', 'Hyderabadi', 'Bubble Tea', 'Juices', 'Mediterranean', 'Hot dogs', 'Gujarati', 'Paan', 'German', 'Brazilian', 'Roast Chicken', 'Charcoal Chicken', 'Israeli', 'Singaporean', 'Wraps', 'Bar', 'Pub', 'Healthy', 'Fast food', 'Barbecue', 'Vegetarian Friendly', 'International', 'None', 'Austrian', 'African', 'Tibetan', 'Diner', 'Australian', 'Middle Eastern', 'Malaysian', 'Arabic', 'South American', 'Colombian', 'Soups', 'Afghani', 'Grill', 'Southern-Italian', 'French', 'Indonesian', 'British', 'Deli', 'Eastern European', 'Armenian', 'Contemporary']\n"
     ]
    }
   ],
   "source": [
    "cui = df['cuisines']\n",
    "\n",
    "for i in range(0, len(cui)):\n",
    "    if isinstance(cui[i], str):\n",
    "        temp = cui[i]\n",
    "        temp = temp.replace(\"'\", \"\")\n",
    "        ls = list(temp.split(', '))\n",
    "        for x in ls:\n",
    "            if x not in cuisines:\n",
    "                cuisines.append(x)\n",
    "        \n",
    "print(cuisines)"
   ]
  },
  {
   "cell_type": "code",
   "execution_count": null,
   "metadata": {},
   "outputs": [],
   "source": [
    "with open('Restaurants_Cuisines.txt', 'w') as f:\n",
    "    for i, item in enumerate(cuisines):\n",
    "        f.write(f'{i+1} {item}\\n')"
   ]
  }
 ],
 "metadata": {
  "interpreter": {
   "hash": "eaa29a38bd2b6d3dd4d71a3f1d87df91209d6946247085b4849f410a246e8dc0"
  },
  "kernelspec": {
   "display_name": "Python 3.9.7 64-bit",
   "language": "python",
   "name": "python3"
  },
  "language_info": {
   "codemirror_mode": {
    "name": "ipython",
    "version": 3
   },
   "file_extension": ".py",
   "mimetype": "text/x-python",
   "name": "python",
   "nbconvert_exporter": "python",
   "pygments_lexer": "ipython3",
   "version": "3.9.6"
  },
  "orig_nbformat": 4
 },
 "nbformat": 4,
 "nbformat_minor": 2
}
