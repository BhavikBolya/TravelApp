{
 "cells": [
  {
   "cell_type": "code",
   "execution_count": 36,
   "metadata": {},
   "outputs": [],
   "source": [
    "import pandas as pd\n",
    "df = pd.read_csv('hotels.csv')\n",
    "amenities = []"
   ]
  },
  {
   "cell_type": "code",
   "execution_count": 37,
   "metadata": {},
   "outputs": [
    {
     "name": "stdout",
     "output_type": "stream",
     "text": [
      "['Air conditioning', 'Spa', 'Free WiFi', 'Parking included', 'Laundry', 'Pet friendly', 'Hot Tub', 'Pool', 'Breakfast included', 'Restaurant', 'Breakfast available', 'Room service', 'Housekeeping', 'Business services', 'Free airport shuttle', '24/7 front desk', 'Babysitting', 'Gym', 'Kitchen', 'Bar', 'Restaurant temporarily unavailableRestaurant', 'Pool temporarily unavailablePool', 'All inclusive', 'Parking available', 'Outdoor Space', 'Barbecue grill', 'Fireplace']\n"
     ]
    }
   ],
   "source": [
    "amn = df['amenities']\n",
    "\n",
    "for i in range(0, len(amn)):\n",
    "    temp = amn[i]\n",
    "    temp = temp[1:-1]\n",
    "    temp = temp.replace(\"'\", \"\")\n",
    "    ls = list(temp.split(', '))\n",
    "    for x in ls:\n",
    "        if x not in amenities:\n",
    "            amenities.append(x)\n",
    "        \n",
    "print(amenities)"
   ]
  },
  {
   "cell_type": "code",
   "execution_count": 38,
   "metadata": {},
   "outputs": [],
   "source": [
    "with open('Hotel_Amenities.txt', 'w') as f:\n",
    "    for i, item in enumerate(amenities):\n",
    "        f.write(f'{i} {item}\\n')"
   ]
  }
 ],
 "metadata": {
  "interpreter": {
   "hash": "eaa29a38bd2b6d3dd4d71a3f1d87df91209d6946247085b4849f410a246e8dc0"
  },
  "kernelspec": {
   "display_name": "Python 3.9.7 64-bit",
   "language": "python",
   "name": "python3"
  },
  "language_info": {
   "codemirror_mode": {
    "name": "ipython",
    "version": 3
   },
   "file_extension": ".py",
   "mimetype": "text/x-python",
   "name": "python",
   "nbconvert_exporter": "python",
   "pygments_lexer": "ipython3",
   "version": "3.9.7"
  },
  "orig_nbformat": 4
 },
 "nbformat": 4,
 "nbformat_minor": 2
}
