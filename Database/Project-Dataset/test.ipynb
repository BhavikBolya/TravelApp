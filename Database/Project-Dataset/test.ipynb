{
 "cells": [
  {
   "cell_type": "code",
   "execution_count": 3,
   "metadata": {},
   "outputs": [],
   "source": [
    "import pandas as pd\n",
    "import glob\n",
    "from urllib.parse import quote\n",
    "from google_images_download import google_images_download\n",
    "df = pd.read_csv('hotels.csv')\n",
    "amenities = []"
   ]
  },
  {
   "cell_type": "code",
   "execution_count": null,
   "metadata": {},
   "outputs": [],
   "source": [
    "def create_csv(fields, rows, dirname, filename):\n",
    "    with open(dirname+filename, 'w', encoding='UTF8', newline='') as csvfile: \n",
    "        # creating a csv writer object\n",
    "        csvwriter = csv.writer(csvfile)\n",
    "        csvwriter.writerow(fields) \n",
    "        csvwriter.writerows(rows)\n",
    "    print(f\"Saved csv with name {filename}\")"
   ]
  },
  {
   "cell_type": "code",
   "execution_count": 37,
   "metadata": {},
   "outputs": [
    {
     "name": "stdout",
     "output_type": "stream",
     "text": [
      "['Air conditioning', 'Spa', 'Free WiFi', 'Parking included', 'Laundry', 'Pet friendly', 'Hot Tub', 'Pool', 'Breakfast included', 'Restaurant', 'Breakfast available', 'Room service', 'Housekeeping', 'Business services', 'Free airport shuttle', '24/7 front desk', 'Babysitting', 'Gym', 'Kitchen', 'Bar', 'Restaurant temporarily unavailableRestaurant', 'Pool temporarily unavailablePool', 'All inclusive', 'Parking available', 'Outdoor Space', 'Barbecue grill', 'Fireplace']\n"
     ]
    }
   ],
   "source": [
    "amn = df['amenities']\n",
    "\n",
    "for i in range(0, len(amn)):\n",
    "    temp = amn[i]\n",
    "    temp = temp[1:-1]\n",
    "    temp = temp.replace(\"'\", \"\")\n",
    "        \n"
   ]
  },
  {
   "cell_type": "code",
   "execution_count": 38,
   "metadata": {},
   "outputs": [],
   "source": [
    "with open('Hotel_Amenities.txt', 'w') as f:\n",
    "    for i, item in enumerate(amenities):\n",
    "        f.write(f'{i} {item}\\n')"
   ]
  },
  {
   "cell_type": "code",
   "execution_count": 4,
   "metadata": {},
   "outputs": [],
   "source": [
    "def get_image(name):\n",
    "    name = name.split(\",\")[0]\n",
    "    response = google_images_download.googleimagesdownload()\n",
    "    args_list = [\"keywords\", \"keywords_from_file\", \"prefix_keywords\", \"suffix_keywords\",\n",
    "             \"limit\", \"format\", \"color\", \"color_type\", \"usage_rights\", \"size\",\n",
    "             \"exact_size\", \"aspect_ratio\", \"type\", \"time\", \"time_range\", \"delay\", \"url\", \"single_image\",\n",
    "             \"output_directory\", \"image_directory\", \"no_directory\", \"proxy\", \"similar_images\", \"specific_site\",\n",
    "             \"print_urls\", \"print_size\", \"print_paths\", \"metadata\", \"extract_metadata\", \"socket_timeout\",\n",
    "             \"thumbnail\", \"language\", \"prefix\", \"chromedriver\", \"related_images\", \"safe_search\", \"no_numbering\",\n",
    "             \"offset\", \"no_download\"]\n",
    "    args = {}\n",
    "    for i in args_list:\n",
    "        args[i]= None\n",
    "    args[\"keywords\"] = name\n",
    "    args['limit'] = 1\n",
    "    params = response.build_url_parameters(args)\n",
    "    url = 'https://www.google.com/search?q=' + quote(name) + '&espv=2&biw=1366&bih=667&site=webhp&source=lnms&tbm=isch' + params + '&sa=X&ei=XosDVaCXD8TasATItgE&ved=0CAcQ_AUoAg'\n",
    "    try:\n",
    "        response.download(args)\n",
    "        \n",
    "        for filename in glob.glob(\"downloads/{name}/*jpg\".format(name=name)) + glob.glob(\"downloads/{name}/*png\".format(name=name)):\n",
    "            return filename\n",
    "    except:\n",
    "        for filename in glob.glob(\"downloads/*jpg\"):\n",
    "            return filename"
   ]
  },
  {
   "cell_type": "code",
   "execution_count": 12,
   "metadata": {},
   "outputs": [
    {
     "name": "stdout",
     "output_type": "stream",
     "text": [
      "\n",
      "Item no.: 1 --> Item name = Hilton Jaipur\n",
      "Evaluating...\n",
      "Starting Download...\n",
      "\n",
      "\n",
      "Unfortunately all 4 could not be downloaded because some images were not downloadable. 0 is all we got for this search filter!\n",
      "\n",
      "Errors: 0\n",
      "\n"
     ]
    }
   ],
   "source": [
    "# importing google_images_download module\n",
    "from google_images_download import google_images_download\n",
    "\n",
    "# creating object\n",
    "response = google_images_download.googleimagesdownload()\n",
    "\n",
    "search_queries = \"Hilton Jaipur\"\n",
    "\n",
    "\n",
    "def downloadimages(query):\n",
    "\t# keywords is the search query\n",
    "\t# format is the image file format\n",
    "\t# limit is the number of images to be downloaded\n",
    "\t# print urs is to print the image file url\n",
    "\t# size is the image size which can\n",
    "\t# be specified manually (\"large, medium, icon\")\n",
    "\t# aspect ratio denotes the height width ratio\n",
    "\t# of images to download. (\"tall, square, wide, panoramic\")\n",
    "\targuments = {\"keywords\": query,\n",
    "\t\t\t\t\"format\": \"jpg\",\n",
    "\t\t\t\t\"limit\":4,\n",
    "\t\t\t\t\"size\": \"medium\",}\n",
    "\ttry:\n",
    "\t\tresponse.download(arguments)\n",
    "\t\n",
    "\t# Handling File NotFound Error\t\n",
    "\texcept FileNotFoundError:\n",
    "\t\targuments = {\"keywords\": query,\n",
    "\t\t\t\t\t\"format\": \"jpg\",\n",
    "\t\t\t\t\t\"limit\":4,\n",
    "\t\t\t\t\t\"print_urls\":True,\n",
    "\t\t\t\t\t\"size\": \"medium\"}\n",
    "\t\t\t\t\t\n",
    "\t\t# Providing arguments for the searched query\n",
    "\t\ttry:\n",
    "\t\t\t# Downloading the photos based\n",
    "\t\t\t# on the given arguments\n",
    "\t\t\tresponse.download(arguments)\n",
    "\t\texcept:\n",
    "\t\t\tpass\n",
    "downloadimages(search_queries)"
   ]
  },
  {
   "cell_type": "code",
   "execution_count": 13,
   "metadata": {},
   "outputs": [
    {
     "name": "stdout",
     "output_type": "stream",
     "text": [
      "\n",
      "Item no.: 1 --> Item name = Modi\n",
      "Evaluating...\n",
      "Starting Download...\n",
      "\n",
      "Errors: 0\n",
      "\n"
     ]
    }
   ],
   "source": [
    "get_image(\"Modi\")"
   ]
  }
 ],
 "metadata": {
  "interpreter": {
   "hash": "eaa29a38bd2b6d3dd4d71a3f1d87df91209d6946247085b4849f410a246e8dc0"
  },
  "kernelspec": {
   "display_name": "Python 3.9.7 64-bit",
   "language": "python",
   "name": "python3"
  },
  "language_info": {
   "codemirror_mode": {
    "name": "ipython",
    "version": 3
   },
   "file_extension": ".py",
   "mimetype": "text/x-python",
   "name": "python",
   "nbconvert_exporter": "python",
   "pygments_lexer": "ipython3",
   "version": "3.9.6"
  },
  "orig_nbformat": 4
 },
 "nbformat": 4,
 "nbformat_minor": 2
}
