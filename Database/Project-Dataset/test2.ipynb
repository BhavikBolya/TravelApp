{
 "cells": [
  {
   "cell_type": "code",
   "execution_count": 7,
   "metadata": {},
   "outputs": [],
   "source": [
    "import pandas as pd\n",
    "df = pd.read_csv('attractions.csv')\n",
    "categories = []"
   ]
  },
  {
   "cell_type": "code",
   "execution_count": 8,
   "metadata": {},
   "outputs": [
    {
     "name": "stdout",
     "output_type": "stream",
     "text": [
      "['Adventure and Outdoor', 'Attractions', 'Water Activities', 'Shows and Concerts', 'History and Culture', 'Private and Custom Tours', 'Tours and Day Trips', 'Food, Drink and Nightlife', 'Classes and Workshops', 'Transportation', 'Air, Helicopter and Balloon Tours', 'Holiday and Seasonal Tours', 'Weddings and Honeymoons', 'Shopping and Fashion', 'Wildlife and Nature', 'Cruises and Boat Tours']\n"
     ]
    }
   ],
   "source": [
    "cat = df['attraction_category']\n",
    "\n",
    "for i in range(0, len(cat)):\n",
    "    if cat[i] not in categories:\n",
    "        categories.append(cat[i])\n",
    "        \n",
    "print(categories)"
   ]
  },
  {
   "cell_type": "code",
   "execution_count": null,
   "metadata": {},
   "outputs": [],
   "source": [
    "with open('Attraction_categories.txt', 'w') as f:\n",
    "    for i, item in enumerate(categories):\n",
    "        f.write(f'{i} {item}\\n')"
   ]
  }
 ],
 "metadata": {
  "interpreter": {
   "hash": "eaa29a38bd2b6d3dd4d71a3f1d87df91209d6946247085b4849f410a246e8dc0"
  },
  "kernelspec": {
   "display_name": "Python 3.9.7 64-bit",
   "language": "python",
   "name": "python3"
  },
  "language_info": {
   "codemirror_mode": {
    "name": "ipython",
    "version": 3
   },
   "file_extension": ".py",
   "mimetype": "text/x-python",
   "name": "python",
   "nbconvert_exporter": "python",
   "pygments_lexer": "ipython3",
   "version": "3.9.7"
  },
  "orig_nbformat": 4
 },
 "nbformat": 4,
 "nbformat_minor": 2
}
