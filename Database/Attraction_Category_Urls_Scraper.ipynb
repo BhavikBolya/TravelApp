{
 "cells": [
  {
   "cell_type": "code",
   "execution_count": 12,
   "metadata": {},
   "outputs": [],
   "source": [
    "from selenium import webdriver\n",
    "from bs4 import BeautifulSoup\n",
    "import csv\n",
    "import pandas as pd\n",
    "import requests"
   ]
  },
  {
   "cell_type": "code",
   "execution_count": 13,
   "metadata": {},
   "outputs": [],
   "source": [
    "def create_csv(fields, rows, dirname, filename):\n",
    "    with open(dirname+filename, 'w', encoding='UTF8', newline='') as csvfile: \n",
    "        # creating a csv writer object\n",
    "        csvwriter = csv.writer(csvfile)\n",
    "        csvwriter.writerow(fields) \n",
    "        csvwriter.writerows(rows)\n",
    "    print(f\"Saved csv with name {filename}\")"
   ]
  },
  {
   "cell_type": "code",
   "execution_count": 9,
   "metadata": {},
   "outputs": [],
   "source": [
    "# Use if category page exists else use the next block\n",
    "cat_url = \"https://www.expedia.com.sg/things-to-do/search?&rid=1669&location=Jaipur%2C+Rajasthan%2C+India&startDate=2022-01-29&endDate=2022-01-30&swp=on&filter.seeAllCategories=true&d1=2022-01-29&d2=2022-01-30&sort=RECOMMENDED\"\n",
    "html_text = requests.get(cat_url).text\n",
    "soup = BeautifulSoup(html_text, 'lxml')\n",
    "\n",
    "sec = soup.find('section', class_=\"uitk-layout-grid uitk-layout-grid-gap-three uitk-layout-grid-align-content-space-between uitk-layout-grid-columns-small-2 uitk-layout-grid-columns-medium-3 uitk-layout-grid-columns-large-3\") \n",
    "card = sec.find_all('div' , attrs= {\"data-testid\":\"category-tile-card\"})\n",
    "\n",
    "category_url_list=[]\n",
    "category = []\n",
    "\n",
    "for i in card:\n",
    "    cat_name = i.find('div' , class_=\"uitk-card-content-section uitk-card-content-section-padded-inline-end uitk-card-content-section-padded-inline-start uitk-card-content-section-padded-block-start\").div.text\n",
    "    cat_url = \"https://www.expedia.com\"+i.find('a').attrs['href']\n",
    "    category_url_list.append(cat_url)\n",
    "    category.append([cat_name,cat_url])"
   ]
  },
  {
   "cell_type": "code",
   "execution_count": 14,
   "metadata": {},
   "outputs": [
    {
     "name": "stdout",
     "output_type": "stream",
     "text": [
      "10 Categories found\n"
     ]
    }
   ],
   "source": [
    "# Use if category page does not exists\n",
    "cat_url = \"https://www.expedia.com/things-to-do/search?d1=2022-02-06&d2=2022-02-07&endDate=2%2F7%2F2022&location=Jodhpur%2C%20Rajasthan%2C%20India&rid=1678&sort=RECOMMENDED&startDate=2%2F6%2F2022&swp=on\"\n",
    "html_text = requests.get(cat_url).text\n",
    "soup = BeautifulSoup(html_text, 'lxml')\n",
    "\n",
    "ul = soup.find('div', class_='uitk-carousel-container')\n",
    "li_list = ul.find_all('li', class_=\"uitk-card uitk-card-roundcorner-all uitk-card-has-border uitk-card-has-link uitk-carousel-item uitk-card-has-primary-theme\")\n",
    "\n",
    "category_url_list = []\n",
    "category = []\n",
    "\n",
    "for li in li_list:\n",
    "    cat_name = li.find('h3', class_='uitk-heading-7 uitk-flex-item uitk-type-300 type-gray truncate-lines-2').text\n",
    "    cat_url = \"https://www.expedia.com\" + li.find('a', class_ = 'uitk-card-link').attrs['href']\n",
    "    category_url_list.append(cat_url)\n",
    "    category.append([cat_name,cat_url])\n",
    "\n",
    "if len(category) > 0:\n",
    "    print(f'{len(category)} Categories found')"
   ]
  },
  {
   "cell_type": "code",
   "execution_count": 15,
   "metadata": {},
   "outputs": [
    {
     "name": "stdout",
     "output_type": "stream",
     "text": [
      "Saved csv with name jodhpur_attraction_category.csv\n"
     ]
    }
   ],
   "source": [
    "with open(\"Project-Dataset/attraction_category_urls/jodhpur_category_urls.txt\", 'w') as output:\n",
    "    for row in category_url_list:\n",
    "        output.write(str(row) + '\\n')\n",
    "fields = ['category_name', 'category_url']\n",
    "create_csv(fields, category, \"Project-Dataset/attraction_category_urls/\", \"jodhpur_attraction_category.csv\")"
   ]
  }
 ],
 "metadata": {
  "interpreter": {
   "hash": "0ac516125b3ee16d4eaa41f008fade7bad50b808bd1b6d74d2e8ae0015ba9066"
  },
  "kernelspec": {
   "display_name": "Python 3.9.6 64-bit",
   "name": "python3"
  },
  "language_info": {
   "codemirror_mode": {
    "name": "ipython",
    "version": 3
   },
   "file_extension": ".py",
   "mimetype": "text/x-python",
   "name": "python",
   "nbconvert_exporter": "python",
   "pygments_lexer": "ipython3",
   "version": "3.9.7"
  },
  "orig_nbformat": 4
 },
 "nbformat": 4,
 "nbformat_minor": 2
}
