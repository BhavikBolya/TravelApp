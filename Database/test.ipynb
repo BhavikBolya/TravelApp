{
 "cells": [
  {
   "cell_type": "code",
   "execution_count": 2,
   "metadata": {},
   "outputs": [],
   "source": [
    "import pandas as pd\n",
    "df = pd.read_csv('zomato_restaurants_in_India.csv')"
   ]
  },
  {
   "cell_type": "code",
   "execution_count": 6,
   "metadata": {},
   "outputs": [
    {
     "name": "stdout",
     "output_type": "stream",
     "text": [
      "8758\n"
     ]
    }
   ],
   "source": [
    "df2 = pd.DataFrame(columns = ['res_id','name','establishment','url','address','city','city_id','locality','latitude','longitude','zipcode','country_id','locality_verbose','cuisines','timings','average_cost_for_two','price_range','currency','highlights','aggregate_rating','rating_text','votes','photo_count','opentable_support','delivery','takeaway'])\n",
    "for i in range(len(df.index)):\n",
    "    if df.loc[i, 'city'] == 'Jaipur' or df.loc[i, 'city'] == 'Jodhpur' or df.loc[i, 'city'] == 'Udaipur':\n",
    "        df2.loc[len(df2.index)] = df.loc[i]\n",
    "\n",
    "print(len(df2.index))"
   ]
  },
  {
   "cell_type": "code",
   "execution_count": 10,
   "metadata": {},
   "outputs": [],
   "source": [
    "df2 = df2.drop(['city_id', 'locality', 'zipcode', 'country_id', 'locality_verbose', 'currency', 'votes', 'photo_count', 'opentable_support'], axis=1)"
   ]
  },
  {
   "cell_type": "code",
   "execution_count": 9,
   "metadata": {},
   "outputs": [],
   "source": [
    "df2.to_csv('Restaurants.csv', index=False)"
   ]
  }
 ],
 "metadata": {
  "interpreter": {
   "hash": "eaa29a38bd2b6d3dd4d71a3f1d87df91209d6946247085b4849f410a246e8dc0"
  },
  "kernelspec": {
   "display_name": "Python 3.9.7 64-bit",
   "language": "python",
   "name": "python3"
  },
  "language_info": {
   "codemirror_mode": {
    "name": "ipython",
    "version": 3
   },
   "file_extension": ".py",
   "mimetype": "text/x-python",
   "name": "python",
   "nbconvert_exporter": "python",
   "pygments_lexer": "ipython3",
   "version": "3.9.7"
  },
  "orig_nbformat": 4
 },
 "nbformat": 4,
 "nbformat_minor": 2
}
