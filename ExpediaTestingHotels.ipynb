{
 "cells": [
  {
   "cell_type": "code",
   "execution_count": 2,
   "metadata": {},
   "outputs": [],
   "source": [
    "from bs4 import BeautifulSoup\n",
    "import requests\n",
    "import re\n",
    "\n",
    "link = \"https://www.expedia.com/Mumbai-Hotels-Renaissance-Mumbai-Convention-Centre-Hotel.h895247.Hotel-Information?chkin=2022-01-09&chkout=2022-01-10&x_pwa=1&rfrr=HSR&pwa_ts=1640530721044&referrerUrl=aHR0cHM6Ly93d3cuZXhwZWRpYS5jb20vSG90ZWwtU2VhcmNo&useRewards=false&rm1=a2&regionId=6050062&destination=Mumbai+%28and+vicinity%29%2C+Maharashtra%2C+India&destType=MARKET&neighborhoodId=6171901&trackingData=AAAAEElB4rmWnWKWZJ5zOOv0cYCYqdHGS9OgV65Rtk1CN50RaxUR5EH4iEwaOfvvA35mBy3f3TMC4XfNvqlqppOjXXcq2hn44AZMWvnwSLgEcHxrFklMh4naNp7FMtMKjgjSrbyrjAXf3wyQc8nTVQCXLwC-LFNt1szDNK-CTmYdw_Dcz5eijLT5S9aQxLEVhBuh98W5GtR6nrt757T9P-kiAH9t1fTCVEVKzLoXgghT4M7skGJQyHY6MgtlAUivuLfHXBG8XwgEVLYKMGJFDIiQ3lmm7I-ffOFOU9piWAZBLUgtY7zw8tjbjbwgv0tpENWIiCrSoZ9rbC_tDrHyk_3SxpAlTDl-8LDenDsdrhHb_Al5VbFtTPjdNzQqkzB37dL0fWyZOzlYz4A5V5yDhCjPmxWYLJAQNaNUoT4p1c8nAfCoP78xZ3KNje5B5Wr-p8jBzpIrF396ekIQA1E0gk_Wj5DT4ikSj38ag5h8HEkwk22QgwEBoKWYsRd18JU_Pui09xg_wUQI4G1U4XRqiW1UW62YlXtTVqUENH2hghaJhNq27rK2fkuWAWrxxWNjCNVwrKrgAleTUImJP26-_xeOERfU9xy4Veur_jH9F8p90p3udCyacokSXGI7SqRvihnQmyAoE9Xy99zcDSWhLgLHVAP3nQbgVBL5rK1UStPcLz7uH8-IobMqmBF67EAfONVeDrCKNQCYQa669YRYWRiNBpfvOGbrqPd8Af3wYpaSG4390aNsuzn6-1Aqb2k22eddbEOmnAb2byLJV3cQCr82x3hN5VfN7-p3jx8IOG6aMoHlLOWYh_IVswS2qwTVSXl40hTNGr8K2F-vxhxoGO454mbeWOyUh5BUmuxt41cTshNFlXAKNHuA-1SuefXRbZdO195fP0d4RThtBRbO4v0Vnh0txZnG9l47C44GRD9tGjYbmV0NnQV-5uojNHpA2CSLL2QQjvspjMI-2dFhnZBI1RAgbYiCnStTRQ8WG55txYrAJfRiy1MYtV0b-UFbqu3b3JFukH4zzHXhu51MnJgNxVudqQ4yQkpsvCJ-tVQttPRdsdmPk0q4hjKGJORfW777BP2Eu9QjgIxqd6io9iQ56NomxAdJNUlB9a5mY-3KdKShj_kXIX9zzj2F-kL8NkPDng%3D%3D&rank=1&testVersionOverride=Buttercup%2C31936.102311.0%2C33775.98848.1%2C38414.114301.0%2C40794.121819.2%2C38427.115718.3%2C42444.123988.0%2C42876.124673.0%2C42973.124182.1%2C42974.123984.1%2C42975.124629.0%2C42976.124729.0%2C42802.123925.0%2C33739.99567.0%2C37898.109354.0%2C37930.119094.0%2C37354.113955.1%2C42950.124768.1&slots=HSR_A&position=1&beaconIssued=2021-12-26T14%3A58%3A39&sort=RECOMMENDED&top_dp=77&top_cur=USD&semdtl=&userIntent=&selectedRoomType=214822479&selectedRatePlan=252157646\"\n",
    "html_text = requests.get(link).text"
   ]
  },
  {
   "cell_type": "code",
   "execution_count": 10,
   "metadata": {},
   "outputs": [
    {
     "name": "stdout",
     "output_type": "stream",
     "text": [
      "Renaissance Mumbai Convention Centre Hotel\n",
      "4.3/5 Excellent\n",
      "['Hot Tub', 'Spa', 'Free WiFi', 'Pool', 'Laundry', 'Parking included']\n"
     ]
    }
   ],
   "source": [
    "# Creating instance of BeautifulSoup\n",
    "soup = BeautifulSoup(html_text, 'lxml')\n",
    "\n",
    "\n",
    "# BASIC INFO\n",
    "div1 = soup.find(\"div\", class_ = \"uitk-spacing uitk-spacing-padding-large-inlineend-three uitk-layout-grid-item uitk-layout-grid-item-columnspan-small-1 uitk-layout-grid-item-columnspan-medium-1 uitk-layout-grid-item-columnspan-large-8\")\n",
    "\n",
    "hotel_name = div1.find('h1', class_ = \"uitk-heading-3\").text\n",
    "hotel_rating = div1.find('h3', class_ = \"uitk-heading-5 uitk-spacing uitk-spacing-padding-blockend-three\").text\n",
    "amenities_list = div1.find('ul', class_ = \"uitk-layout-grid uitk-layout-grid-gap-four uitk-layout-grid-auto-flow-column uitk-layout-grid-columns-2 uitk-layout-grid-rows-3\").find_all('li')\n",
    "amenities = []\n",
    "for amenity in amenities_list:\n",
    "    amenities.append(amenity.text)\n",
    "\n",
    "print(hotel_name)\n",
    "print(hotel_rating)\n",
    "print(amenities)\n",
    "\n",
    "# price_div = soup.find(\"div\" , class_ = \"uitk-spacing uitk-spacing-margin-blockstart-six uitk-spacing-padding-small-inline-three uitk-spacing-padding-medium-inline-unset\")\n",
    "# print(price_div.prettify())\n",
    "# price = price_div.find(\"span\" , class_ = \"uitk-lockup-price\").div.text\n",
    "# print(price)"
   ]
  },
  {
   "cell_type": "code",
   "execution_count": 11,
   "metadata": {},
   "outputs": [
    {
     "name": "stdout",
     "output_type": "stream",
     "text": [
      "2 & 3B, Near Chinmayanand Ashram, Powai, Mumbai, Maharashtra, 400 087\n",
      "19.134901\n",
      "72.900539\n"
     ]
    }
   ],
   "source": [
    "# LOCATION\n",
    "location = soup.find('div', class_ = \"uitk-spacing uitk-spacing-padding-large-blockend-six uitk-flex-item\")\n",
    "\n",
    "address = location.find('div', class_ = \"uitk-text uitk-type-300 uitk-flex-item uitk-flex-basis-full_width uitk-text-default-theme\").text\n",
    "latitude = location.find('meta', itemprop = \"latitude\").attrs['content']\n",
    "longitude = location.find('meta', itemprop = \"longitude\").attrs['content']\n",
    "\n",
    "print(address)\n",
    "print(latitude)\n",
    "print(longitude)"
   ]
  }
 ],
 "metadata": {
  "interpreter": {
   "hash": "eaa29a38bd2b6d3dd4d71a3f1d87df91209d6946247085b4849f410a246e8dc0"
  },
  "kernelspec": {
   "display_name": "Python 3.9.7 64-bit",
   "language": "python",
   "name": "python3"
  },
  "language_info": {
   "codemirror_mode": {
    "name": "ipython",
    "version": 3
   },
   "file_extension": ".py",
   "mimetype": "text/x-python",
   "name": "python",
   "nbconvert_exporter": "python",
   "pygments_lexer": "ipython3",
   "version": "3.9.7"
  },
  "orig_nbformat": 4
 },
 "nbformat": 4,
 "nbformat_minor": 2
}
