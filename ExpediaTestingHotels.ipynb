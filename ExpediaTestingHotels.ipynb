{
 "cells": [
  {
   "cell_type": "code",
   "execution_count": 2,
   "metadata": {},
   "outputs": [
    {
     "name": "stdout",
     "output_type": "stream",
     "text": [
      "All required libraries have been successfully imported.\n"
     ]
    }
   ],
   "source": [
    "from bs4 import BeautifulSoup\n",
    "import requests\n",
    "import re\n",
    "import pandas as pd\n",
    "import numpy as np\n",
    "import csv\n",
    "print('All required libraries have been successfully imported.')"
   ]
  },
  {
   "cell_type": "code",
   "execution_count": 41,
   "metadata": {},
   "outputs": [
    {
     "name": "stdout",
     "output_type": "stream",
     "text": [
      "50\n",
      "Hotel urls CSV file read successfully..\n"
     ]
    }
   ],
   "source": [
    "# Recursively Hit 2-52 page links downloaded to get the hotel urls.\n",
    "# hotel_full_urllist = pd.read_csv(\"Testing/Project-Dataset/jaipur_hotel_urls.txt\")\n",
    "with open('Testing/Project-Dataset/jaipur_hotel_urls.txt', newline='') as f:\n",
    "    reader = csv.reader(f)\n",
    "    hotel_full_urllist = list(reader)\n",
    "# print(hotel_full_urllist)\n",
    "with open('Testing/jaipur_hotels.csv', newline='') as f:\n",
    "    reader = csv.reader(f)\n",
    "    data = list(reader)\n",
    "data = data[1:]\n",
    "print(len(hotel_full_urllist))\n",
    "print('Hotel urls CSV file read successfully..')"
   ]
  },
  {
   "cell_type": "code",
   "execution_count": 50,
   "metadata": {},
   "outputs": [
    {
     "name": "stdout",
     "output_type": "stream",
     "text": [
      "0\n",
      "1\n",
      "2\n",
      "3\n",
      "4\n",
      "5\n",
      "6\n",
      "7\n",
      "8\n",
      "9\n",
      "10\n",
      "11\n",
      "12\n",
      "13\n",
      "14\n",
      "15\n",
      "16\n",
      "17\n",
      "18\n",
      "19\n",
      "20\n",
      "21\n",
      "22\n",
      "23\n",
      "24\n",
      "25\n",
      "26\n",
      "27\n",
      "28\n",
      "29\n",
      "30\n",
      "31\n",
      "32\n",
      "33\n",
      "34\n",
      "35\n",
      "36\n",
      "37\n",
      "38\n",
      "39\n",
      "40\n",
      "41\n",
      "42\n",
      "43\n",
      "44\n",
      "45\n",
      "46\n",
      "47\n",
      "48\n",
      "49\n",
      "Batch- Collection successfully done..\n",
      "\n"
     ]
    }
   ],
   "source": [
    "length_df = int(len(hotel_full_urllist))\n",
    "hotel_info = []\n",
    "for iter_val in range(length_df):\n",
    "    print(iter_val)\n",
    "    url = str(hotel_full_urllist[iter_val])[2:-2]\n",
    "    html_text = requests.get(url).text\n",
    "    # Creating instance of BeautifulSoup\n",
    "    soup = BeautifulSoup(html_text, 'lxml')\n",
    "\n",
    "    # BASIC INFO\n",
    "    div1 = soup.find(\"div\", class_ = \"uitk-spacing uitk-spacing-padding-large-inlineend-three uitk-layout-grid-item uitk-layout-grid-item-columnspan-small-1 uitk-layout-grid-item-columnspan-medium-1 uitk-layout-grid-item-columnspan-large-8\")\n",
    "    \n",
    "    hotel_id = data[iter_val][0]\n",
    "    \n",
    "    hotel_name = div1.find('h1', class_ = \"uitk-heading-3\").text\n",
    "    if(hotel_name!=data[iter_val][1]):\n",
    "        print(\"Hotel names do not match!!\")\n",
    "        break\n",
    "        \n",
    "    hotel_rating = div1.find('div', class_ = \"uitk-spacing uitk-spacing-padding-blockend-six\", attrs= {\"data-stid\":\"content-hotel-reviewsummary\"})\n",
    "    try:\n",
    "        overall_rating = hotel_rating.find('meta' , attrs= {\"itemprop\":\"ratingValue\"}).attrs['content']\n",
    "        hotel_rating_overall_word = hotel_rating.find('meta' , attrs= {\"itemprop\":\"description\"}).attrs['content']\n",
    "        hotel_review_count = hotel_rating.find('meta' , attrs= {\"itemprop\":\"reviewCount\"}).attrs['content']\n",
    "    except:\n",
    "        overall_rating = ''\n",
    "        hotel_rating_overall_word =''\n",
    "        hotel_review_count = ''\n",
    "        \n",
    "    amenities_list = div1.find('ul', class_ = \"uitk-layout-grid uitk-layout-grid-gap-four uitk-layout-grid-auto-flow-column uitk-layout-grid-columns-2 uitk-layout-grid-rows-3\").find_all('li')\n",
    "    amenities = []\n",
    "    for amenity in amenities_list:\n",
    "        amenities.append(amenity.text)\n",
    "    \n",
    "    location = soup.find('div', class_ = \"uitk-spacing uitk-spacing-padding-large-blockend-six uitk-flex-item\")\n",
    "\n",
    "    address = location.find('div', class_ = \"uitk-text uitk-type-300 uitk-flex-item uitk-flex-basis-full_width uitk-text-default-theme\").text\n",
    "    latitude = location.find('meta', itemprop = \"latitude\").attrs['content']\n",
    "    longitude = location.find('meta', itemprop = \"longitude\").attrs['content']\n",
    "\n",
    "    hotel_price = data[iter_val][2]\n",
    "\n",
    "    # print(hotel_name)\n",
    "    # print(overall_rating, hotel_rating_overall_word)\n",
    "    # print(amenities)\n",
    "    # print(address)\n",
    "    # print(latitude)\n",
    "    # print(longitude)\n",
    "    # print(hotel_price)\n",
    "\n",
    "    hotel_info1 = [hotel_id,hotel_name,overall_rating,hotel_rating_overall_word,amenities,address,'India',latitude+\", \"+longitude,hotel_price]\n",
    "    hotel_info.append(hotel_info1)\n",
    "print(\"Batch- Collection successfully done..\\n\")"
   ]
  },
  {
   "cell_type": "code",
   "execution_count": 46,
   "metadata": {},
   "outputs": [],
   "source": [
    "def create_csv(fields, rows, dirname, filename):\n",
    "    with open(dirname+filename, 'w', encoding='UTF8', newline='') as csvfile: \n",
    "        # creating a csv writer object\n",
    "        csvwriter = csv.writer(csvfile)\n",
    "        csvwriter.writerow(fields) \n",
    "        csvwriter.writerows(rows)\n",
    "    print(f\"Saved csv with name {filename}\")"
   ]
  },
  {
   "cell_type": "code",
   "execution_count": 51,
   "metadata": {},
   "outputs": [
    {
     "name": "stdout",
     "output_type": "stream",
     "text": [
      "Saved csv with name hotel_info.csv\n",
      "Hotel Dataframe updated..\n"
     ]
    }
   ],
   "source": [
    "fields = ['hotel_id', 'hotel_name', 'hotel_rating', 'hotel_experience', 'amenities', 'address', 'country', 'location', 'hotel_price']\n",
    "create_csv(fields, hotel_info, \"Testing/Project-Dataset/\", \"hotel_info.csv\")\n",
    "print('Hotel Dataframe updated..')"
   ]
  },
  {
   "cell_type": "code",
   "execution_count": 9,
   "metadata": {},
   "outputs": [
    {
     "name": "stdout",
     "output_type": "stream",
     "text": [
      "0      97\n",
      "1     115\n",
      "2     349\n",
      "3      97\n",
      "4      93\n",
      "5     101\n",
      "6      86\n",
      "7      93\n",
      "8      27\n",
      "9     278\n",
      "10     63\n",
      "11    479\n",
      "12     85\n",
      "13     94\n",
      "14     97\n",
      "15     51\n",
      "16    121\n",
      "17     46\n",
      "18     72\n",
      "19    208\n",
      "20    115\n",
      "21     38\n",
      "22    142\n",
      "23     82\n",
      "24     94\n",
      "25     36\n",
      "26    101\n",
      "27     17\n",
      "28     85\n",
      "29     97\n",
      "30     45\n",
      "31     37\n",
      "32     50\n",
      "33     51\n",
      "34    115\n",
      "35     53\n",
      "36     47\n",
      "37     90\n",
      "38    153\n",
      "39     58\n",
      "40     32\n",
      "41     44\n",
      "42     33\n",
      "43     35\n",
      "44     78\n",
      "45     60\n",
      "46     13\n",
      "47     29\n",
      "48     38\n",
      "49     47\n",
      "Name: price, dtype: object\n"
     ]
    },
    {
     "name": "stderr",
     "output_type": "stream",
     "text": [
      "C:\\Users\\admin\\AppData\\Local\\Temp/ipykernel_15064/270095647.py:3: SettingWithCopyWarning: \n",
      "A value is trying to be set on a copy of a slice from a DataFrame\n",
      "\n",
      "See the caveats in the documentation: https://pandas.pydata.org/pandas-docs/stable/user_guide/indexing.html#returning-a-view-versus-a-copy\n",
      "  hotel_info_df[\"price\"][i] = hotel_info_df[\"price\"][i][1:]\n"
     ]
    }
   ],
   "source": [
    "hotel_info_df = pd.read_csv(\"Testing/Project-Dataset/hotel_info.csv\")\n",
    "for i in range(len(hotel_info_df)):\n",
    "    hotel_info_df[\"price\"][i] = hotel_info_df[\"price\"][i][1:]\n",
    "print(hotel_info_df[\"price\"])\n",
    "hotel_info_df.to_json(\"Testing/Project-Dataset/hotel_info.json\")"
   ]
  }
 ],
 "metadata": {
  "interpreter": {
   "hash": "eaa29a38bd2b6d3dd4d71a3f1d87df91209d6946247085b4849f410a246e8dc0"
  },
  "kernelspec": {
   "display_name": "Python 3.9.7 64-bit",
   "language": "python",
   "name": "python3"
  },
  "language_info": {
   "codemirror_mode": {
    "name": "ipython",
    "version": 3
   },
   "file_extension": ".py",
   "mimetype": "text/x-python",
   "name": "python",
   "nbconvert_exporter": "python",
   "pygments_lexer": "ipython3",
   "version": "3.9.6"
  },
  "orig_nbformat": 4
 },
 "nbformat": 4,
 "nbformat_minor": 2
}
