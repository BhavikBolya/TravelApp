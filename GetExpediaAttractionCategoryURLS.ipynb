{
 "cells": [
  {
   "cell_type": "code",
   "execution_count": 1,
   "metadata": {},
   "outputs": [],
   "source": [
    "from selenium import webdriver\n",
    "from bs4 import BeautifulSoup\n",
    "import time\n",
    "import random\n",
    "import csv\n",
    "import json\n",
    "import pandas as pd\n",
    "import requests\n",
    "import re"
   ]
  },
  {
   "cell_type": "code",
   "execution_count": 20,
   "metadata": {},
   "outputs": [],
   "source": [
    "def create_csv(fields, rows, dirname, filename):\n",
    "    with open(dirname+filename, 'w', encoding='UTF8', newline='') as csvfile: \n",
    "        # creating a csv writer object\n",
    "        csvwriter = csv.writer(csvfile)\n",
    "        csvwriter.writerow(fields) \n",
    "        csvwriter.writerows(rows)\n",
    "    print(f\"Saved csv with name {filename}\")"
   ]
  },
  {
   "cell_type": "code",
   "execution_count": 45,
   "metadata": {},
   "outputs": [],
   "source": [
    "cat_url = \"https://www.expedia.com.sg/things-to-do/search?&rid=1669&location=Jaipur%2C+Rajasthan%2C+India&startDate=2022-01-29&endDate=2022-01-30&swp=on&filter.seeAllCategories=true&d1=2022-01-29&d2=2022-01-30&sort=RECOMMENDED\"\n",
    "html_text = requests.get(cat_url).text\n",
    "soup = BeautifulSoup(html_text, 'lxml')\n",
    "\n",
    "sec = soup.find('section', class_=\"uitk-layout-grid uitk-layout-grid-gap-three uitk-layout-grid-align-content-space-between uitk-layout-grid-columns-small-2 uitk-layout-grid-columns-medium-3 uitk-layout-grid-columns-large-3\") \n",
    "card = sec.find_all('div' , attrs= {\"data-testid\":\"category-tile-card\"})\n",
    "category_url_list=[]\n",
    "category = []\n",
    "for i in card:\n",
    "    cat_name = i.find('div' , class_=\"uitk-card-content-section uitk-card-content-section-padded-inline-end uitk-card-content-section-padded-inline-start uitk-card-content-section-padded-block-start\").div.text\n",
    "    cat_url = \"https://www.expedia.com\"+i.find('a').attrs['href']\n",
    "    category_url_list.append(cat_url)\n",
    "    category.append([cat_name,cat_url])\n",
    "    "
   ]
  },
  {
   "cell_type": "code",
   "execution_count": 46,
   "metadata": {},
   "outputs": [
    {
     "name": "stdout",
     "output_type": "stream",
     "text": [
      "Saved csv with name jaipur_attraction_category.csv\n"
     ]
    }
   ],
   "source": [
    "with open(\"jaipur_category_urls.txt\", 'w') as output:\n",
    "    for row in category_url_list:\n",
    "        output.write(str(row) + '\\n')\n",
    "fields = ['category_name', 'category_url']\n",
    "create_csv(fields, category, \"testing/\", \"jaipur_attraction_category.csv\")"
   ]
  }
 ],
 "metadata": {
  "interpreter": {
   "hash": "0ac516125b3ee16d4eaa41f008fade7bad50b808bd1b6d74d2e8ae0015ba9066"
  },
  "kernelspec": {
   "display_name": "Python 3.9.6 64-bit",
   "name": "python3"
  },
  "language_info": {
   "codemirror_mode": {
    "name": "ipython",
    "version": 3
   },
   "file_extension": ".py",
   "mimetype": "text/x-python",
   "name": "python",
   "nbconvert_exporter": "python",
   "pygments_lexer": "ipython3",
   "version": "3.9.6"
  },
  "orig_nbformat": 4
 },
 "nbformat": 4,
 "nbformat_minor": 2
}
